{
 "cells": [
  {
   "cell_type": "markdown",
   "id": "e0fe936e",
   "metadata": {},
   "source": [
    "# NOR Gate Perceptron\n",
    "\n",
    "$$\n",
    "Y = \\overline{A + B}\n",
    "$$"
   ]
  },
  {
   "cell_type": "code",
   "execution_count": 1,
   "id": "8f2ec1a6",
   "metadata": {},
   "outputs": [],
   "source": [
    "import jax.numpy as np\n",
    "import jax"
   ]
  },
  {
   "cell_type": "markdown",
   "id": "3ac370b8",
   "metadata": {},
   "source": [
    "## Input and Output"
   ]
  },
  {
   "cell_type": "code",
   "execution_count": 2,
   "id": "3aa6fac2",
   "metadata": {},
   "outputs": [],
   "source": [
    "X = np.array(\n",
    "    [\n",
    "        [0, 0],\n",
    "        [0, 1],\n",
    "        [1, 0],\n",
    "        [1, 1],\n",
    "    ]\n",
    ")\n",
    "\n",
    "Y = np.array([[1], [0], [0], [0]])  "
   ]
  },
  {
   "cell_type": "markdown",
   "id": "093b31a7",
   "metadata": {},
   "source": [
    "## Activation Function\n",
    "\n",
    "* Sigmoid Function\n",
    "* derivative of Sigmoid"
   ]
  },
  {
   "cell_type": "code",
   "execution_count": 3,
   "id": "cb5ae7ac",
   "metadata": {},
   "outputs": [],
   "source": [
    "@jax.jit\n",
    "def sigmoid(x):\n",
    "    return 1 / (1 + np.exp(-x))"
   ]
  },
  {
   "cell_type": "code",
   "execution_count": 4,
   "id": "ba573ae5",
   "metadata": {},
   "outputs": [],
   "source": [
    "@jax.jit\n",
    "def dervativeSigmoid(x):\n",
    "    return x * (1 - x)"
   ]
  },
  {
   "cell_type": "markdown",
   "id": "10c47007",
   "metadata": {},
   "source": [
    "## Random Weights and Bias"
   ]
  },
  {
   "cell_type": "code",
   "execution_count": 5,
   "id": "d11c1c5d",
   "metadata": {},
   "outputs": [],
   "source": [
    "key = jax.random.PRNGKey(31)"
   ]
  },
  {
   "cell_type": "code",
   "execution_count": 6,
   "id": "9ca613f3",
   "metadata": {},
   "outputs": [
    {
     "data": {
      "text/plain": [
       "(Array([3383336270,  606859335], dtype=uint32),\n",
       " Array([3495797044, 3024489638], dtype=uint32))"
      ]
     },
     "execution_count": 6,
     "metadata": {},
     "output_type": "execute_result"
    }
   ],
   "source": [
    "keyWeights, keyBias = jax.random.split(key)\n",
    "keyWeights, keyBias"
   ]
  },
  {
   "cell_type": "code",
   "execution_count": 7,
   "id": "a669111b",
   "metadata": {},
   "outputs": [
    {
     "data": {
      "text/plain": [
       "Array([[1.9952931 ],\n",
       "       [0.32006642]], dtype=float32)"
      ]
     },
     "execution_count": 7,
     "metadata": {},
     "output_type": "execute_result"
    }
   ],
   "source": [
    "weights = jax.random.normal(keyWeights, (2, 1))\n",
    "weights"
   ]
  },
  {
   "cell_type": "code",
   "execution_count": 8,
   "id": "46bbd8d4",
   "metadata": {},
   "outputs": [
    {
     "data": {
      "text/plain": [
       "Array([0.05312927], dtype=float32)"
      ]
     },
     "execution_count": 8,
     "metadata": {},
     "output_type": "execute_result"
    }
   ],
   "source": [
    "bias = jax.random.normal(keyBias, (1,))\n",
    "bias"
   ]
  },
  {
   "cell_type": "code",
   "execution_count": 9,
   "id": "957ce01b",
   "metadata": {},
   "outputs": [],
   "source": [
    "lr = 10"
   ]
  },
  {
   "cell_type": "markdown",
   "id": "25135953",
   "metadata": {},
   "source": [
    "## Training"
   ]
  },
  {
   "cell_type": "code",
   "execution_count": 10,
   "id": "a7459c76",
   "metadata": {},
   "outputs": [
    {
     "name": "stdout",
     "output_type": "stream",
     "text": [
      "Epoch 0, Error: 71.97830963134766%\n",
      "Epoch 1000, Error: 0.9195150136947632%\n",
      "Epoch 2000, Error: 0.6450508832931519%\n",
      "Epoch 3000, Error: 0.5248470306396484%\n",
      "Epoch 4000, Error: 0.45359256863594055%\n",
      "Epoch 5000, Error: 0.4051348567008972%\n",
      "Epoch 6000, Error: 0.36945030093193054%\n",
      "Epoch 7000, Error: 0.3417696952819824%\n",
      "Epoch 8000, Error: 0.3194907307624817%\n",
      "Epoch 9000, Error: 0.301056832075119%\n"
     ]
    }
   ],
   "source": [
    "for epoch in np.arange(10000):\n",
    "    \n",
    "    # Forward Propagation\n",
    "    predict = sigmoid(np.dot(X, weights)+bias)\n",
    "\n",
    "    # Error Calculation\n",
    "    error = Y - predict\n",
    "\n",
    "    # Backpropagation\n",
    "    derivativePredict = dervativeSigmoid(predict)*error\n",
    "\n",
    "    weights += np.dot(X.T, derivativePredict) * lr\n",
    "    bias += np.sum(derivativePredict) * lr\n",
    "\n",
    "    if epoch % 1000 == 0:\n",
    "        print(f\"Epoch {epoch}, Error: {np.mean(np.abs(error))*100}%\")"
   ]
  },
  {
   "cell_type": "markdown",
   "id": "70df143f",
   "metadata": {},
   "source": [
    "## Final Weights and Bias"
   ]
  },
  {
   "cell_type": "code",
   "execution_count": 12,
   "id": "4e2d8655",
   "metadata": {},
   "outputs": [
    {
     "data": {
      "text/plain": [
       "(Array([[-11.029777],\n",
       "        [-11.029777]], dtype=float32),\n",
       " Array([5.2843423], dtype=float32))"
      ]
     },
     "execution_count": 12,
     "metadata": {},
     "output_type": "execute_result"
    }
   ],
   "source": [
    "weights, bias"
   ]
  },
  {
   "cell_type": "markdown",
   "id": "56389048",
   "metadata": {},
   "source": [
    "## Prediction"
   ]
  },
  {
   "cell_type": "code",
   "execution_count": 13,
   "id": "cbfb1329",
   "metadata": {},
   "outputs": [
    {
     "data": {
      "text/plain": [
       "Array([[9.9495524e-01],\n",
       "       [3.1871551e-03],\n",
       "       [3.1871551e-03],\n",
       "       [5.1834419e-08]], dtype=float32)"
      ]
     },
     "execution_count": 13,
     "metadata": {},
     "output_type": "execute_result"
    }
   ],
   "source": [
    "sigmoid(np.dot(X, weights)+bias)"
   ]
  },
  {
   "cell_type": "code",
   "execution_count": 14,
   "id": "3336771c",
   "metadata": {},
   "outputs": [
    {
     "data": {
      "text/plain": [
       "Array([[1.],\n",
       "       [0.],\n",
       "       [0.],\n",
       "       [0.]], dtype=float32)"
      ]
     },
     "execution_count": 14,
     "metadata": {},
     "output_type": "execute_result"
    }
   ],
   "source": [
    "sigmoid(np.dot(X, weights)+bias).round()"
   ]
  },
  {
   "cell_type": "code",
   "execution_count": null,
   "id": "843da602",
   "metadata": {},
   "outputs": [],
   "source": []
  }
 ],
 "metadata": {
  "kernelspec": {
   "display_name": "jax_ml",
   "language": "python",
   "name": "python3"
  },
  "language_info": {
   "codemirror_mode": {
    "name": "ipython",
    "version": 3
   },
   "file_extension": ".py",
   "mimetype": "text/x-python",
   "name": "python",
   "nbconvert_exporter": "python",
   "pygments_lexer": "ipython3",
   "version": "3.12.11"
  }
 },
 "nbformat": 4,
 "nbformat_minor": 5
}
