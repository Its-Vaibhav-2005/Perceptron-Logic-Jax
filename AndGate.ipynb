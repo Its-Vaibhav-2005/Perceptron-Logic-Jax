{
 "cells": [
  {
   "cell_type": "markdown",
   "id": "ded4367b",
   "metadata": {},
   "source": [
    "# AND Gate Perceptron\n",
    "\n",
    "$$\n",
    "Y = A \\cdot B\n",
    "$$"
   ]
  },
  {
   "cell_type": "code",
   "execution_count": 11,
   "id": "6c6c932f",
   "metadata": {},
   "outputs": [],
   "source": [
    "import jax.numpy as np\n",
    "import jax"
   ]
  },
  {
   "cell_type": "markdown",
   "id": "c42cccd8",
   "metadata": {},
   "source": [
    "## Input and Output"
   ]
  },
  {
   "cell_type": "code",
   "execution_count": 12,
   "id": "742b773b",
   "metadata": {},
   "outputs": [],
   "source": [
    "X = np.array(\n",
    "    [\n",
    "        [0, 0],\n",
    "        [0, 1],\n",
    "        [1, 0],\n",
    "        [1, 1],\n",
    "    ]\n",
    ")\n",
    "\n",
    "Y = np.array([[0], [0], [0], [1]])"
   ]
  },
  {
   "cell_type": "markdown",
   "id": "ede6268b",
   "metadata": {},
   "source": [
    "## Activation Function\n",
    "\n",
    "* Sigmoid Function\n",
    "* Derivative of Sigmoid Function"
   ]
  },
  {
   "cell_type": "code",
   "execution_count": 13,
   "id": "e9ccb2e7",
   "metadata": {},
   "outputs": [],
   "source": [
    "@jax.jit\n",
    "def sigmoid(x):\n",
    "    return 1/(1 + np.exp(-x))"
   ]
  },
  {
   "cell_type": "code",
   "execution_count": 14,
   "id": "44ef7416",
   "metadata": {},
   "outputs": [],
   "source": [
    "@jax.jit\n",
    "def derivativeSigmoid(x):\n",
    "    return x * (1 - x)"
   ]
  },
  {
   "cell_type": "markdown",
   "id": "7b51e246",
   "metadata": {},
   "source": [
    "## Intializing Random weights and bias"
   ]
  },
  {
   "cell_type": "code",
   "execution_count": 15,
   "id": "1b453439",
   "metadata": {},
   "outputs": [],
   "source": [
    "key = jax.random.PRNGKey(27)"
   ]
  },
  {
   "cell_type": "code",
   "execution_count": 16,
   "id": "bbbc80b0",
   "metadata": {},
   "outputs": [
    {
     "data": {
      "text/plain": [
       "(Array([ 112854966, 2582967503], dtype=uint32),\n",
       " Array([1903097535, 1612154735], dtype=uint32))"
      ]
     },
     "execution_count": 16,
     "metadata": {},
     "output_type": "execute_result"
    }
   ],
   "source": [
    "keyWeights, keyBias = jax.random.split(key)\n",
    "keyWeights, keyBias"
   ]
  },
  {
   "cell_type": "code",
   "execution_count": 17,
   "id": "2d2e64e5",
   "metadata": {},
   "outputs": [
    {
     "data": {
      "text/plain": [
       "Array([[-1.2051456],\n",
       "       [ 1.0610977]], dtype=float32)"
      ]
     },
     "execution_count": 17,
     "metadata": {},
     "output_type": "execute_result"
    }
   ],
   "source": [
    "weights = jax.random.normal(keyWeights, (2, 1))\n",
    "weights"
   ]
  },
  {
   "cell_type": "code",
   "execution_count": 18,
   "id": "f24c0713",
   "metadata": {},
   "outputs": [
    {
     "data": {
      "text/plain": [
       "Array([0.06784267], dtype=float32)"
      ]
     },
     "execution_count": 18,
     "metadata": {},
     "output_type": "execute_result"
    }
   ],
   "source": [
    "bias = jax.random.normal(keyBias, (1,))\n",
    "bias"
   ]
  },
  {
   "cell_type": "code",
   "execution_count": 19,
   "id": "cf436226",
   "metadata": {},
   "outputs": [],
   "source": [
    "lr = 10"
   ]
  },
  {
   "cell_type": "markdown",
   "id": "4f276dbf",
   "metadata": {},
   "source": [
    "## Training"
   ]
  },
  {
   "cell_type": "code",
   "execution_count": 20,
   "id": "cd89b58f",
   "metadata": {},
   "outputs": [
    {
     "name": "stdout",
     "output_type": "stream",
     "text": [
      "Error at epoc 0: 0.5086139440536499\n",
      "Error at epoc 1000: 0.012997671961784363\n",
      "Error at epoc 2000: 0.009107393212616444\n",
      "Error at epoc 3000: 0.007405339740216732\n",
      "Error at epoc 4000: 0.006397179327905178\n",
      "Error at epoc 5000: 0.005711973644793034\n",
      "Error at epoc 6000: 0.005207630340009928\n",
      "Error at epoc 7000: 0.004816536791622639\n",
      "Error at epoc 8000: 0.004501832649111748\n",
      "Error at epoc 9000: 0.004241542425006628\n"
     ]
    }
   ],
   "source": [
    "for epoch in range(10000):\n",
    "\n",
    "    # Forward Propagation\n",
    "    predict = sigmoid(np.dot(X, weights) + bias)\n",
    "\n",
    "    # Error calculation\n",
    "    error = Y - predict\n",
    "\n",
    "    # Backpropagation\n",
    "    derivativePredict = derivativeSigmoid(predict) * error\n",
    "\n",
    "    weights += np.dot(X.T, derivativePredict) * lr\n",
    "    bias += np.sum(derivativePredict) * lr \n",
    "\n",
    "    if epoch % 1000 == 0:\n",
    "        print(f\"Error at epoc {epoch}: {np.mean(np.abs(error))}\")"
   ]
  },
  {
   "cell_type": "markdown",
   "id": "dc209c50",
   "metadata": {},
   "source": [
    "## Final Weights and Bias "
   ]
  },
  {
   "cell_type": "code",
   "execution_count": 21,
   "id": "37decb2f",
   "metadata": {},
   "outputs": [
    {
     "data": {
      "text/plain": [
       "(Array([[10.395933],\n",
       "        [10.395933]], dtype=float32),\n",
       " Array([-15.678721], dtype=float32))"
      ]
     },
     "execution_count": 21,
     "metadata": {},
     "output_type": "execute_result"
    }
   ],
   "source": [
    "weights, bias"
   ]
  },
  {
   "cell_type": "markdown",
   "id": "7a5b0b80",
   "metadata": {},
   "source": [
    "## Prediction"
   ]
  },
  {
   "cell_type": "code",
   "execution_count": 22,
   "id": "d9fc6830",
   "metadata": {},
   "outputs": [
    {
     "data": {
      "text/plain": [
       "Array([[1.5517357e-07],\n",
       "       [5.0525931e-03],\n",
       "       [5.0525931e-03],\n",
       "       [9.9401891e-01]], dtype=float32)"
      ]
     },
     "execution_count": 22,
     "metadata": {},
     "output_type": "execute_result"
    }
   ],
   "source": [
    "sigmoid(np.dot(X, weights) + bias)"
   ]
  },
  {
   "cell_type": "code",
   "execution_count": 23,
   "id": "8f2c8f65",
   "metadata": {},
   "outputs": [
    {
     "data": {
      "text/plain": [
       "Array([[0.],\n",
       "       [0.],\n",
       "       [0.],\n",
       "       [1.]], dtype=float32)"
      ]
     },
     "execution_count": 23,
     "metadata": {},
     "output_type": "execute_result"
    }
   ],
   "source": [
    "sigmoid(np.dot(X, weights) + bias).round()"
   ]
  },
  {
   "cell_type": "code",
   "execution_count": null,
   "id": "2ba08f89",
   "metadata": {},
   "outputs": [],
   "source": []
  }
 ],
 "metadata": {
  "kernelspec": {
   "display_name": "jax_ml",
   "language": "python",
   "name": "python3"
  },
  "language_info": {
   "codemirror_mode": {
    "name": "ipython",
    "version": 3
   },
   "file_extension": ".py",
   "mimetype": "text/x-python",
   "name": "python",
   "nbconvert_exporter": "python",
   "pygments_lexer": "ipython3",
   "version": "3.12.11"
  }
 },
 "nbformat": 4,
 "nbformat_minor": 5
}
