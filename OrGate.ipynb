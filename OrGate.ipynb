{
 "cells": [
  {
   "cell_type": "markdown",
   "id": "248a99bf",
   "metadata": {},
   "source": [
    "# OR Gate Perceptron\n",
    "\n",
    "$$\n",
    "Y = A + B\n",
    "$$"
   ]
  },
  {
   "cell_type": "code",
   "execution_count": 1,
   "id": "0eff8e2f",
   "metadata": {},
   "outputs": [],
   "source": [
    "import jax.numpy as np\n",
    "import jax"
   ]
  },
  {
   "cell_type": "markdown",
   "id": "c01d1729",
   "metadata": {},
   "source": [
    "## Sigmoid Function"
   ]
  },
  {
   "cell_type": "code",
   "execution_count": 2,
   "id": "e2e1fcc8",
   "metadata": {},
   "outputs": [],
   "source": [
    "@jax.jit\n",
    "def sigmoid(x):\n",
    "    return 1 / (1+np.exp(-x))"
   ]
  },
  {
   "cell_type": "markdown",
   "id": "590e07b6",
   "metadata": {},
   "source": [
    "## Derivative of Sigmoid"
   ]
  },
  {
   "cell_type": "code",
   "execution_count": 3,
   "id": "f5ccd81b",
   "metadata": {},
   "outputs": [],
   "source": [
    "@jax.jit\n",
    "def sigmoidDerivative(x):\n",
    "    return x * (1 - x)"
   ]
  },
  {
   "cell_type": "markdown",
   "id": "1953e2d9",
   "metadata": {},
   "source": [
    "## Inputs and Labels"
   ]
  },
  {
   "cell_type": "code",
   "execution_count": 4,
   "id": "4fa1c720",
   "metadata": {},
   "outputs": [],
   "source": [
    "X = np.array(\n",
    "    [[0, 0],\n",
    "     [0, 1],\n",
    "     [1, 0],\n",
    "     [1, 1]]\n",
    ")"
   ]
  },
  {
   "cell_type": "code",
   "execution_count": 5,
   "id": "c7554a50",
   "metadata": {},
   "outputs": [],
   "source": [
    "Y = np.array([[0], [1], [1], [1]])"
   ]
  },
  {
   "cell_type": "markdown",
   "id": "a68150d1",
   "metadata": {},
   "source": [
    "## Init Random Weights and Bias"
   ]
  },
  {
   "cell_type": "code",
   "execution_count": 6,
   "id": "70dcd1c1",
   "metadata": {},
   "outputs": [],
   "source": [
    "key = jax.random.PRNGKey(0)"
   ]
  },
  {
   "cell_type": "code",
   "execution_count": 7,
   "id": "024c97ba",
   "metadata": {},
   "outputs": [],
   "source": [
    "inputSize = 2\n",
    "outputSize = 1"
   ]
  },
  {
   "cell_type": "code",
   "execution_count": 8,
   "id": "88a510c5",
   "metadata": {},
   "outputs": [
    {
     "data": {
      "text/plain": [
       "(Array([1797259609, 2579123966], dtype=uint32),\n",
       " Array([ 928981903, 3453687069], dtype=uint32))"
      ]
     },
     "execution_count": 8,
     "metadata": {},
     "output_type": "execute_result"
    }
   ],
   "source": [
    "keyWeights, biasWeights = jax.random.split(key)\n",
    "keyWeights, biasWeights"
   ]
  },
  {
   "cell_type": "code",
   "execution_count": 9,
   "id": "2a86379e",
   "metadata": {},
   "outputs": [
    {
     "data": {
      "text/plain": [
       "Array([[ 1.0040143],\n",
       "       [-0.9063372]], dtype=float32)"
      ]
     },
     "execution_count": 9,
     "metadata": {},
     "output_type": "execute_result"
    }
   ],
   "source": [
    "weights = jax.random.normal(keyWeights, (inputSize, outputSize))\n",
    "weights"
   ]
  },
  {
   "cell_type": "code",
   "execution_count": 10,
   "id": "4cb4efe7",
   "metadata": {},
   "outputs": [
    {
     "data": {
      "text/plain": [
       "Array([-2.4424558], dtype=float32)"
      ]
     },
     "execution_count": 10,
     "metadata": {},
     "output_type": "execute_result"
    }
   ],
   "source": [
    "bias = jax.random.normal(biasWeights, (outputSize,))\n",
    "bias"
   ]
  },
  {
   "cell_type": "markdown",
   "id": "cca23fca",
   "metadata": {},
   "source": [
    "## Learning Rate"
   ]
  },
  {
   "cell_type": "code",
   "execution_count": 11,
   "id": "219f8277",
   "metadata": {},
   "outputs": [],
   "source": [
    "lr = 1"
   ]
  },
  {
   "cell_type": "markdown",
   "id": "c9c210d1",
   "metadata": {},
   "source": [
    "## Training "
   ]
  },
  {
   "cell_type": "code",
   "execution_count": 12,
   "id": "55944f68",
   "metadata": {},
   "outputs": [
    {
     "name": "stdout",
     "output_type": "stream",
     "text": [
      "Error at epoc 0: 0.6916971802711487\n",
      "Error at epoc 1000: 0.030672451481223106\n",
      "Error at epoc 2000: 0.021218687295913696\n",
      "Error at epoc 3000: 0.01714799925684929\n",
      "Error at epoc 4000: 0.014758002012968063\n",
      "Error at epoc 5000: 0.013143092393875122\n",
      "Error at epoc 6000: 0.011959503404796124\n",
      "Error at epoc 7000: 0.01104463916271925\n",
      "Error at epoc 8000: 0.010310417041182518\n",
      "Error at epoc 9000: 0.009704383090138435\n"
     ]
    }
   ],
   "source": [
    "for epoch in np.arange(10000):\n",
    "    # Forward Propagation\n",
    "    predict = sigmoid(np.dot(X, weights) + bias)\n",
    "\n",
    "    # Calculate the error\n",
    "    error = Y - predict\n",
    "\n",
    "    # Backpropagation\n",
    "    derivativePredict = sigmoidDerivative(predict) * error\n",
    "\n",
    "    weights += np.dot(X.T, derivativePredict) * lr\n",
    "    bias += np.sum(derivativePredict, axis=0) * lr\n",
    "\n",
    "    if epoch % 1000 == 0:\n",
    "        print(f\"Error at epoc {epoch}: {np.mean(np.abs(error))}\")"
   ]
  },
  {
   "cell_type": "markdown",
   "id": "59ebd174",
   "metadata": {},
   "source": [
    "## Final Weight and Bias"
   ]
  },
  {
   "cell_type": "code",
   "execution_count": 13,
   "id": "801df9f2",
   "metadata": {},
   "outputs": [
    {
     "data": {
      "text/plain": [
       "(Array([[8.672171],\n",
       "        [8.672165]], dtype=float32),\n",
       " Array([-4.102197], dtype=float32))"
      ]
     },
     "execution_count": 13,
     "metadata": {},
     "output_type": "execute_result"
    }
   ],
   "source": [
    "weights, bias"
   ]
  },
  {
   "cell_type": "markdown",
   "id": "101dfc4c",
   "metadata": {},
   "source": [
    "## Prediction"
   ]
  },
  {
   "cell_type": "code",
   "execution_count": 15,
   "id": "9618ff8e",
   "metadata": {},
   "outputs": [
    {
     "data": {
      "text/plain": [
       "Array([[0.0162673],\n",
       "       [0.9897479],\n",
       "       [0.989748 ],\n",
       "       [0.9999982]], dtype=float32)"
      ]
     },
     "execution_count": 15,
     "metadata": {},
     "output_type": "execute_result"
    }
   ],
   "source": [
    "sigmoid(np.dot(X, weights) + bias)"
   ]
  },
  {
   "cell_type": "code",
   "execution_count": 16,
   "id": "341aecf6",
   "metadata": {},
   "outputs": [
    {
     "data": {
      "text/plain": [
       "Array([[0.],\n",
       "       [1.],\n",
       "       [1.],\n",
       "       [1.]], dtype=float32)"
      ]
     },
     "execution_count": 16,
     "metadata": {},
     "output_type": "execute_result"
    }
   ],
   "source": [
    "sigmoid(np.dot(X, weights) + bias).round()"
   ]
  },
  {
   "cell_type": "code",
   "execution_count": null,
   "id": "fd17c303",
   "metadata": {},
   "outputs": [],
   "source": []
  }
 ],
 "metadata": {
  "kernelspec": {
   "display_name": "jax_ml",
   "language": "python",
   "name": "python3"
  },
  "language_info": {
   "codemirror_mode": {
    "name": "ipython",
    "version": 3
   },
   "file_extension": ".py",
   "mimetype": "text/x-python",
   "name": "python",
   "nbconvert_exporter": "python",
   "pygments_lexer": "ipython3",
   "version": "3.12.11"
  }
 },
 "nbformat": 4,
 "nbformat_minor": 5
}
