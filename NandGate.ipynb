{
 "cells": [
  {
   "cell_type": "markdown",
   "id": "33150bf8",
   "metadata": {},
   "source": [
    "# NAND Gate Perceptron "
   ]
  },
  {
   "cell_type": "markdown",
   "id": "fd601d24",
   "metadata": {},
   "source": []
  }
 ],
 "metadata": {
  "language_info": {
   "name": "python"
  }
 },
 "nbformat": 4,
 "nbformat_minor": 5
}
